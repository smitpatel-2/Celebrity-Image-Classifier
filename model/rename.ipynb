{
 "cells": [
  {
   "cell_type": "markdown",
   "id": "dd6684ae",
   "metadata": {},
   "source": [
    "# Rename all images in dataset"
   ]
  },
  {
   "cell_type": "markdown",
   "id": "1ee7a4aa",
   "metadata": {},
   "source": [
    "### Rename all scrapped images with numbers because you migth face following error when image name contains special characters and opencv is not able to detect image and process didn't load and was empty"
   ]
  },
  {
   "cell_type": "markdown",
   "id": "ba3c4a2e",
   "metadata": {},
   "source": [
    "cv2.error: OpenCV(4.1.0) C:\\projects\\opencv-python\\opencv\\modules\\imgproc\\src\\color.cpp:182: error: (-215:Assertion failed) !_src.empty() in function 'cv::cvtColor' "
   ]
  },
  {
   "cell_type": "markdown",
   "id": "9c01eea3",
   "metadata": {},
   "source": [
    "https://github.com/ageitgey/face_recognition/issues/933"
   ]
  },
  {
   "cell_type": "code",
   "execution_count": 18,
   "id": "0289e420",
   "metadata": {},
   "outputs": [],
   "source": [
    "import os\n",
    "#Function to rename multiple files\n",
    "def main():\n",
    "    i = 0\n",
    "    ## Change path as per your system\n",
    "    path=\"C:/Users/Dinesh/Documents/CelebrityImageClassifier/model/dataset/akshay_kumar/\"\n",
    "    for filename in os.listdir(path):\n",
    "        my_dest =\"new\" + str(i) + \".jpg\"\n",
    "        my_source =path + filename\n",
    "        my_dest =path + my_dest\n",
    "        # rename() function will\n",
    "        # rename all the files\n",
    "        os.rename(my_source, my_dest)\n",
    "        i += 1\n",
    "\n",
    "# Driver Code\n",
    "if __name__ == '__main__':\n",
    "    # Calling main() function\n",
    "    main()"
   ]
  },
  {
   "cell_type": "code",
   "execution_count": null,
   "id": "421b33d1",
   "metadata": {},
   "outputs": [],
   "source": []
  },
  {
   "cell_type": "code",
   "execution_count": null,
   "id": "0d8a49d3",
   "metadata": {},
   "outputs": [],
   "source": []
  }
 ],
 "metadata": {
  "kernelspec": {
   "display_name": "Python 3 (ipykernel)",
   "language": "python",
   "name": "python3"
  },
  "language_info": {
   "codemirror_mode": {
    "name": "ipython",
    "version": 3
   },
   "file_extension": ".py",
   "mimetype": "text/x-python",
   "name": "python",
   "nbconvert_exporter": "python",
   "pygments_lexer": "ipython3",
   "version": "3.9.13"
  }
 },
 "nbformat": 4,
 "nbformat_minor": 5
}
